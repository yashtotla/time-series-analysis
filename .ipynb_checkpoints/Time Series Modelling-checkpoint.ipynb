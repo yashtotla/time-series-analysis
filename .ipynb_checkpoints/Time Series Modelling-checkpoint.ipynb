{
 "cells": [
  {
   "cell_type": "markdown",
   "metadata": {},
   "source": [
    "# Time Series Overview\n",
    "<br>\n",
    "Time series is a series of data points ordered in time. <br>\n",
    "When focused in time series data, the aim is to estimate how the sequence of observations will continue in the future.<br>\n",
    "Depending on source of generation, we can have various frequencies at which data is collected. <br>\n",
    "\n",
    "Major assumption in time series is that past pattern will continue in the future. <br>\n",
    "Examples\n",
    "- monthly sales data\n",
    "- quartely/annual revenue\n",
    "- hourly weather and wind speed data\n",
    "- IOT sensors and smart devices\n",
    "- energy forecasting\n",
    "<br>\n",
    "\n",
    "## Key Concepts\n",
    "1. Trends\n",
    "2. Seasonality\n",
    "3. Cyclic\n",
    "4. Statonary\n",
    "\n",
    "### 1. Trends\n",
    "long term increase or decrease in data <br>\n",
    "trend need not be linear <br>\n",
    "there can be changing direction <br>\n",
    "\n",
    "### 2. Seasonality\n",
    "occurs when a time series is affected by regularly occuring pattern <br>\n",
    "- every month end or weekend the sales may pickup\n",
    "- higher sales during holiday seasons\n",
    "\n",
    "seasonality is always fixed. whereas cyclicity is becuase of an event or an external event like a business or an economic cycle. typically commodity prices may crash because of the underlying demand in the commodity. <br><br>\n",
    "additive seasonality - magnitude of seasonal fluctuation is almost constant. trend could be positive or negative but the fluctuation in the trend is constant\n",
    "multiplicative seasonality - fluctuation in data or some type of increasing or decreasing pattern in the data. \n",
    "\n",
    "### 3. Stationary\n",
    "data can be called stationary when the mean and standard deviation is constant and there is no seasonality or trend. <br>\n",
    "the first two conditions of constant mean and standard deviation are very important. <br>\n",
    "we can make the data stationary using some techniques if the third condition is not met.<br>\n",
    "White Noise - when there is no autocorrelation at all <br>\n",
    "\n",
    "Typically when we do time series modelling, the output error serial will be stationary and look like white noise. Such a model is fitted well. \n",
    "\n",
    "## Things to Remeber\n",
    "- Time series can be irregularly spaced\n",
    "- Missing data (cannot do global mean or median. need to smartly impute the data)\n",
    "- Seasonality and Cyclic\n",
    "- Time Series is mostly data analysis"
   ]
  },
  {
   "cell_type": "code",
   "execution_count": 1,
   "metadata": {},
   "outputs": [],
   "source": [
    "from __future__ import absolute_import, division, print_function, unicode_literals\n",
    "\n",
    "import seaborn as sns\n",
    "import matplotlib as mpl\n",
    "import matplotlib.pyplot as plt\n",
    "import numpy as np\n",
    "import pandas as pd\n",
    "import os\n",
    "\n",
    "from datetime import datetime\n",
    "from download import download\n",
    "\n",
    "mpl.rcParams['figure.figsize'] = (8,6)\n",
    "mpl.rcParams['axes.grid'] = False"
   ]
  },
  {
   "cell_type": "markdown",
   "metadata": {},
   "source": [
    "# Time Series Data and Exploratory Analysis\n",
    "- statistical techniques\n",
    "- exploratory data analysis\n",
    "\n",
    "find patterns in data and structure of data\n",
    "\n",
    "pattern - seasonality, trend, stationary or non-stationary <br>\n",
    "many models have assumptions around the linearity or the stationary nature. so this type of analysis is important. <br>\n",
    "<br>\n",
    "structure - right imputation technique. we cannot drop the data because the order of the events are very important. so we cannot have missing events and need to identify the right substitution techniques <br>\n",
    "\n",
    "- univariate analysis\n",
    "- multivariate analysis\n",
    "- autocorrelation plots \n",
    "- lag plots, etc"
   ]
  },
  {
   "cell_type": "code",
   "execution_count": 2,
   "metadata": {},
   "outputs": [
    {
     "name": "stdout",
     "output_type": "stream",
     "text": [
      "Creating data folder...\n",
      "Downloading data from https://archive.ics.uci.edu/ml/machine-learning-databases/00501/PRSA2017_Data_20130301-20170228.zip (7.6 MB)\n",
      "\n",
      "file_sizes: 100%|██████████████████████████| 7.96M/7.96M [01:30<00:00, 88.3kB/s]\n",
      "Extracting zip file...\n",
      "Successfully downloaded / unzipped to /tmp/aq\n"
     ]
    }
   ],
   "source": [
    "path = download('https://archive.ics.uci.edu/ml/machine-learning-databases/00501/PRSA2017_Data_20130301-20170228.zip','/tmp/aq',kind='zip')"
   ]
  },
  {
   "cell_type": "code",
   "execution_count": null,
   "metadata": {},
   "outputs": [],
   "source": [
    "df = pd.read_csv('/tmp/aq/PSRA_Data_20130301-20170228/PSRA_Data_Dingling_2013')"
   ]
  }
 ],
 "metadata": {
  "kernelspec": {
   "display_name": "Python 3",
   "language": "python",
   "name": "python3"
  },
  "language_info": {
   "codemirror_mode": {
    "name": "ipython",
    "version": 3
   },
   "file_extension": ".py",
   "mimetype": "text/x-python",
   "name": "python",
   "nbconvert_exporter": "python",
   "pygments_lexer": "ipython3",
   "version": "3.7.7"
  }
 },
 "nbformat": 4,
 "nbformat_minor": 4
}
